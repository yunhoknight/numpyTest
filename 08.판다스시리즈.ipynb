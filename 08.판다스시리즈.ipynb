{
 "cells": [
  {
   "cell_type": "markdown",
   "id": "456e5606",
   "metadata": {},
   "source": [
    "## 판다스 핵심\n",
    "- Series : 1차원 전용\n",
    "- Dataframe : 2차원 전용"
   ]
  },
  {
   "cell_type": "code",
   "execution_count": 2,
   "id": "24ed19c9",
   "metadata": {},
   "outputs": [],
   "source": [
    "import pandas as pd\n",
    "import numpy as np"
   ]
  },
  {
   "cell_type": "code",
   "execution_count": 3,
   "id": "ea7ad9d5",
   "metadata": {},
   "outputs": [],
   "source": [
    "## 1차원 데이터\n",
    "mylist = [10, 20, 30, 40]\n",
    "t = (10, 20, 30, 40)\n",
    "d = {'aa':10, 'bb':20, 'cc':30}"
   ]
  },
  {
   "cell_type": "code",
   "execution_count": 4,
   "id": "0ab6638f",
   "metadata": {},
   "outputs": [
    {
     "data": {
      "text/plain": [
       "aa    10\n",
       "bb    20\n",
       "cc    30\n",
       "dd    40\n",
       "Name: kor, dtype: int32"
      ]
     },
     "execution_count": 4,
     "metadata": {},
     "output_type": "execute_result"
    }
   ],
   "source": [
    "sr1 = pd.Series(data=mylist, index=['aa', 'bb', 'cc', 'dd'], dtype=np.int32, name=\"kor\")\n",
    "sr1"
   ]
  },
  {
   "cell_type": "code",
   "execution_count": 5,
   "id": "5b7d41fb",
   "metadata": {},
   "outputs": [
    {
     "name": "stdout",
     "output_type": "stream",
     "text": [
      "<class 'pandas.core.series.Series'>\n"
     ]
    }
   ],
   "source": [
    "print(type(sr1))"
   ]
  },
  {
   "cell_type": "markdown",
   "id": "ea7cc057",
   "metadata": {},
   "source": [
    "https://pandas.pydata.org/docs/reference/api/pandas.Series.html"
   ]
  },
  {
   "cell_type": "code",
   "execution_count": 6,
   "id": "851c7196",
   "metadata": {},
   "outputs": [
    {
     "data": {
      "text/plain": [
       "0    10\n",
       "1    20\n",
       "2    30\n",
       "3    40\n",
       "dtype: int64"
      ]
     },
     "execution_count": 6,
     "metadata": {},
     "output_type": "execute_result"
    }
   ],
   "source": [
    "sr2 = pd.Series(data=t)\n",
    "sr2"
   ]
  },
  {
   "cell_type": "code",
   "execution_count": 7,
   "id": "6d9d1c4b",
   "metadata": {},
   "outputs": [
    {
     "data": {
      "text/plain": [
       "aa    10\n",
       "bb    20\n",
       "cc    30\n",
       "dtype: int64"
      ]
     },
     "execution_count": 7,
     "metadata": {},
     "output_type": "execute_result"
    }
   ],
   "source": [
    "sr3 = pd.Series(data=d)\n",
    "sr3"
   ]
  },
  {
   "cell_type": "code",
   "execution_count": null,
   "id": "02dff084",
   "metadata": {},
   "outputs": [],
   "source": []
  }
 ],
 "metadata": {
  "kernelspec": {
   "display_name": "Python 3 (ipykernel)",
   "language": "python",
   "name": "python3"
  },
  "language_info": {
   "codemirror_mode": {
    "name": "ipython",
    "version": 3
   },
   "file_extension": ".py",
   "mimetype": "text/x-python",
   "name": "python",
   "nbconvert_exporter": "python",
   "pygments_lexer": "ipython3",
   "version": "3.10.9"
  }
 },
 "nbformat": 4,
 "nbformat_minor": 5
}
