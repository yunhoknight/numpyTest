{
 "cells": [
  {
   "cell_type": "code",
   "execution_count": 4,
   "id": "a2a8c76e",
   "metadata": {},
   "outputs": [],
   "source": [
    "import numpy as np"
   ]
  },
  {
   "cell_type": "code",
   "execution_count": 5,
   "id": "6352fcd8",
   "metadata": {},
   "outputs": [
    {
     "data": {
      "text/plain": [
       "array([11, 22, 33, 44, 55])"
      ]
     },
     "execution_count": 5,
     "metadata": {},
     "output_type": "execute_result"
    }
   ],
   "source": [
    "arr = np.array([11,22,33,44,55])\n",
    "arr"
   ]
  },
  {
   "cell_type": "markdown",
   "id": "a634c7e7",
   "metadata": {},
   "source": [
    "## 인덱싱\n",
    "- 0,1,2,3...\n",
    "- ...-3,-2,-1"
   ]
  },
  {
   "cell_type": "code",
   "execution_count": 4,
   "id": "b7d0a94d",
   "metadata": {},
   "outputs": [
    {
     "data": {
      "text/plain": [
       "11"
      ]
     },
     "execution_count": 4,
     "metadata": {},
     "output_type": "execute_result"
    }
   ],
   "source": [
    "arr[0]"
   ]
  },
  {
   "cell_type": "code",
   "execution_count": 5,
   "id": "66701083",
   "metadata": {},
   "outputs": [
    {
     "data": {
      "text/plain": [
       "55"
      ]
     },
     "execution_count": 5,
     "metadata": {},
     "output_type": "execute_result"
    }
   ],
   "source": [
    "arr[-1]"
   ]
  },
  {
   "cell_type": "markdown",
   "id": "4abe6171",
   "metadata": {},
   "source": [
    "## 복수개 인덱싱\n",
    "- [[인덱스번호...]]"
   ]
  },
  {
   "cell_type": "code",
   "execution_count": 6,
   "id": "c873ff5c",
   "metadata": {},
   "outputs": [
    {
     "data": {
      "text/plain": [
       "array([33, 55])"
      ]
     },
     "execution_count": 6,
     "metadata": {},
     "output_type": "execute_result"
    }
   ],
   "source": [
    "arr[[2,4]]"
   ]
  },
  {
   "cell_type": "markdown",
   "id": "38a7047b",
   "metadata": {},
   "source": [
    "## boolean indexing\n",
    "- [[True, False...]]\n",
    "- array의 갯수만큼"
   ]
  },
  {
   "cell_type": "code",
   "execution_count": 7,
   "id": "99a160dd",
   "metadata": {},
   "outputs": [
    {
     "data": {
      "text/plain": [
       "array([11, 44, 55])"
      ]
     },
     "execution_count": 7,
     "metadata": {},
     "output_type": "execute_result"
    }
   ],
   "source": [
    "arr[[True, False, False, True, True]]"
   ]
  },
  {
   "cell_type": "code",
   "execution_count": 8,
   "id": "5f465329",
   "metadata": {},
   "outputs": [
    {
     "data": {
      "text/plain": [
       "array([11, 22, 33, 44, 55])"
      ]
     },
     "execution_count": 8,
     "metadata": {},
     "output_type": "execute_result"
    }
   ],
   "source": [
    "arr"
   ]
  },
  {
   "cell_type": "markdown",
   "id": "0ffd5746",
   "metadata": {},
   "source": [
    "## Slicing\n",
    "- [시작인덱스:끝인덱스:증가치]\n",
    "- 시작인덱스 <= index < 끝인덱스"
   ]
  },
  {
   "cell_type": "code",
   "execution_count": 10,
   "id": "e083ef19",
   "metadata": {},
   "outputs": [
    {
     "data": {
      "text/plain": [
       "array([22, 33, 44])"
      ]
     },
     "execution_count": 10,
     "metadata": {},
     "output_type": "execute_result"
    }
   ],
   "source": [
    "arr[1:4:1]"
   ]
  },
  {
   "cell_type": "code",
   "execution_count": 11,
   "id": "a04406de",
   "metadata": {},
   "outputs": [
    {
     "data": {
      "text/plain": [
       "array([11, 22, 33, 44, 55])"
      ]
     },
     "execution_count": 11,
     "metadata": {},
     "output_type": "execute_result"
    }
   ],
   "source": [
    "arr"
   ]
  },
  {
   "cell_type": "markdown",
   "id": "015b4f7a",
   "metadata": {},
   "source": [
    "## 연산(산술, 관계, 논리)\n",
    "- element wise(요소별 연산) : 동일한 인덱스끼리 연산\n",
    "- broad casting"
   ]
  },
  {
   "cell_type": "code",
   "execution_count": 14,
   "id": "6c477ee9",
   "metadata": {},
   "outputs": [
    {
     "data": {
      "text/plain": [
       "array([13, 24, 35, 46, 57])"
      ]
     },
     "execution_count": 14,
     "metadata": {},
     "output_type": "execute_result"
    }
   ],
   "source": [
    "arr + 2"
   ]
  },
  {
   "cell_type": "code",
   "execution_count": 16,
   "id": "1fbdba09",
   "metadata": {},
   "outputs": [
    {
     "data": {
      "text/plain": [
       "array([ 22,  44,  66,  88, 110])"
      ]
     },
     "execution_count": 16,
     "metadata": {},
     "output_type": "execute_result"
    }
   ],
   "source": [
    "arr * 2"
   ]
  },
  {
   "cell_type": "code",
   "execution_count": 15,
   "id": "462f7bad",
   "metadata": {},
   "outputs": [
    {
     "data": {
      "text/plain": [
       "array([11, 22, 33, 44, 55])"
      ]
     },
     "execution_count": 15,
     "metadata": {},
     "output_type": "execute_result"
    }
   ],
   "source": [
    "arr"
   ]
  },
  {
   "cell_type": "code",
   "execution_count": 12,
   "id": "e81f35cb",
   "metadata": {},
   "outputs": [
    {
     "data": {
      "text/plain": [
       "[10, 20, 30, 40, 50]"
      ]
     },
     "execution_count": 12,
     "metadata": {},
     "output_type": "execute_result"
    }
   ],
   "source": [
    "mylist = [10, 20, 30]\n",
    "mylist + [40, 50]"
   ]
  },
  {
   "cell_type": "code",
   "execution_count": 13,
   "id": "26aea22b",
   "metadata": {},
   "outputs": [
    {
     "data": {
      "text/plain": [
       "[10, 20, 30, 10, 20, 30]"
      ]
     },
     "execution_count": 13,
     "metadata": {},
     "output_type": "execute_result"
    }
   ],
   "source": [
    "mylist * 2"
   ]
  },
  {
   "cell_type": "code",
   "execution_count": 18,
   "id": "47fdf209",
   "metadata": {},
   "outputs": [],
   "source": [
    "# 연봉데이터가 있을때 각 연봉에 대한 세금 3.3%를 제한 실수령액을 구하시오.\n",
    "salary = np.array([1000, 2000, 3000, 4000, 5000])"
   ]
  },
  {
   "cell_type": "code",
   "execution_count": 20,
   "id": "10cec044",
   "metadata": {},
   "outputs": [
    {
     "data": {
      "text/plain": [
       "array([ 967., 1934., 2901., 3868., 4835.])"
      ]
     },
     "execution_count": 20,
     "metadata": {},
     "output_type": "execute_result"
    }
   ],
   "source": [
    "salary * (1-0.033)"
   ]
  },
  {
   "cell_type": "markdown",
   "id": "affbec77",
   "metadata": {},
   "source": [
    "## 관계연산자"
   ]
  },
  {
   "cell_type": "code",
   "execution_count": 6,
   "id": "d1a49f3e",
   "metadata": {},
   "outputs": [
    {
     "data": {
      "text/plain": [
       "array([False, False,  True,  True,  True])"
      ]
     },
     "execution_count": 6,
     "metadata": {},
     "output_type": "execute_result"
    }
   ],
   "source": [
    "arr>30"
   ]
  },
  {
   "cell_type": "code",
   "execution_count": 8,
   "id": "7763acb6",
   "metadata": {},
   "outputs": [
    {
     "data": {
      "text/plain": [
       "array([33, 44, 55])"
      ]
     },
     "execution_count": 8,
     "metadata": {},
     "output_type": "execute_result"
    }
   ],
   "source": [
    "arr[arr>30]"
   ]
  },
  {
   "cell_type": "code",
   "execution_count": 9,
   "id": "8fe3cf8c",
   "metadata": {},
   "outputs": [
    {
     "data": {
      "text/plain": [
       "[33, 44, 55]"
      ]
     },
     "execution_count": 9,
     "metadata": {},
     "output_type": "execute_result"
    }
   ],
   "source": [
    "mylist = [11, 22, 33, 44, 55]\n",
    "[n for n in mylist if n >30]"
   ]
  },
  {
   "cell_type": "code",
   "execution_count": 7,
   "id": "a3e0ba46",
   "metadata": {},
   "outputs": [
    {
     "data": {
      "text/plain": [
       "array([11, 22, 33, 44, 55])"
      ]
     },
     "execution_count": 7,
     "metadata": {},
     "output_type": "execute_result"
    }
   ],
   "source": [
    "arr"
   ]
  },
  {
   "cell_type": "markdown",
   "id": "0c3f76f6",
   "metadata": {},
   "source": [
    "## 논리연산자( and=> &, or=> |, not => ~ )"
   ]
  },
  {
   "cell_type": "code",
   "execution_count": 11,
   "id": "01a22983",
   "metadata": {},
   "outputs": [
    {
     "data": {
      "text/plain": [
       "array([ True, False,  True, False, False])"
      ]
     },
     "execution_count": 11,
     "metadata": {},
     "output_type": "execute_result"
    }
   ],
   "source": [
    "(arr == 11) | (arr == 33)"
   ]
  },
  {
   "cell_type": "code",
   "execution_count": 12,
   "id": "475e8319",
   "metadata": {},
   "outputs": [
    {
     "data": {
      "text/plain": [
       "array([False,  True,  True,  True, False])"
      ]
     },
     "execution_count": 12,
     "metadata": {},
     "output_type": "execute_result"
    }
   ],
   "source": [
    "(arr>20) & (arr<50)"
   ]
  },
  {
   "cell_type": "code",
   "execution_count": 13,
   "id": "5201433c",
   "metadata": {},
   "outputs": [
    {
     "data": {
      "text/plain": [
       "array([22, 33, 44])"
      ]
     },
     "execution_count": 13,
     "metadata": {},
     "output_type": "execute_result"
    }
   ],
   "source": [
    "arr [(arr>20) & (arr<50)]"
   ]
  },
  {
   "cell_type": "code",
   "execution_count": 14,
   "id": "4d783fe8",
   "metadata": {},
   "outputs": [
    {
     "data": {
      "text/plain": [
       "array([ True, False, False, False,  True])"
      ]
     },
     "execution_count": 14,
     "metadata": {},
     "output_type": "execute_result"
    }
   ],
   "source": [
    "~((arr>20) & (arr<50))"
   ]
  },
  {
   "cell_type": "code",
   "execution_count": 15,
   "id": "ca46c590",
   "metadata": {},
   "outputs": [
    {
     "data": {
      "text/plain": [
       "array([11, 55])"
      ]
     },
     "execution_count": 15,
     "metadata": {},
     "output_type": "execute_result"
    }
   ],
   "source": [
    "arr[~((arr>20) & (arr<50))]"
   ]
  }
 ],
 "metadata": {
  "kernelspec": {
   "display_name": "Python 3 (ipykernel)",
   "language": "python",
   "name": "python3"
  },
  "language_info": {
   "codemirror_mode": {
    "name": "ipython",
    "version": 3
   },
   "file_extension": ".py",
   "mimetype": "text/x-python",
   "name": "python",
   "nbconvert_exporter": "python",
   "pygments_lexer": "ipython3",
   "version": "3.9.12"
  }
 },
 "nbformat": 4,
 "nbformat_minor": 5
}
