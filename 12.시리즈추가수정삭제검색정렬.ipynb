{
 "cells": [
  {
   "cell_type": "code",
   "execution_count": 1,
   "id": "f415dc32",
   "metadata": {},
   "outputs": [],
   "source": [
    "import pandas as pd\n",
    "import numpy as np"
   ]
  },
  {
   "cell_type": "code",
   "execution_count": 26,
   "id": "dc134768",
   "metadata": {},
   "outputs": [
    {
     "data": {
      "text/plain": [
       "aa    10\n",
       "bb    20\n",
       "cc    30\n",
       "dd    40\n",
       "ee    50\n",
       "Name: 국어점수, dtype: int64"
      ]
     },
     "execution_count": 26,
     "metadata": {},
     "output_type": "execute_result"
    }
   ],
   "source": [
    "data = {'aa':10, 'bb':20, 'cc':30, 'dd':40, 'ee':50}\n",
    "sr = pd.Series(data, name='국어점수')\n",
    "sr"
   ]
  },
  {
   "cell_type": "markdown",
   "id": "17c97428",
   "metadata": {},
   "source": [
    "## 수정"
   ]
  },
  {
   "cell_type": "code",
   "execution_count": 5,
   "id": "cf3bc5ce",
   "metadata": {},
   "outputs": [],
   "source": [
    "sr[0] = 100\n",
    "# sr['aa'] =100\n",
    "# sr.loc['aa']=100\n",
    "#sr.iloc[0]=100"
   ]
  },
  {
   "cell_type": "code",
   "execution_count": 10,
   "id": "20d30e91",
   "metadata": {},
   "outputs": [],
   "source": [
    "# sr[1:3] = 200\n",
    "sr[1:3]=[1,2]\n",
    "# sr['bb':'cc']=[1,2]\n",
    "# sr.loc['bb':'cc']=[1,2]\n",
    "# sr.iloc[1:3]=[1,2]"
   ]
  },
  {
   "cell_type": "markdown",
   "id": "7f05852d",
   "metadata": {},
   "source": [
    "## 추가"
   ]
  },
  {
   "cell_type": "code",
   "execution_count": 18,
   "id": "50b45b1c",
   "metadata": {},
   "outputs": [],
   "source": [
    "sr['ff']=100 # 인덱스가 있으면 수정 없으면 추가"
   ]
  },
  {
   "cell_type": "code",
   "execution_count": 22,
   "id": "92f7893a",
   "metadata": {},
   "outputs": [
    {
     "name": "stderr",
     "output_type": "stream",
     "text": [
      "C:\\Users\\yunho\\AppData\\Local\\Temp\\ipykernel_15024\\1815332687.py:1: FutureWarning: The series.append method is deprecated and will be removed from pandas in a future version. Use pandas.concat instead.\n",
      "  sr.append(pd.Series([110,120,130], index=['gg','hh','ii']))\n"
     ]
    },
    {
     "data": {
      "text/plain": [
       "aa     10\n",
       "bb     20\n",
       "cc     30\n",
       "dd     40\n",
       "ee     50\n",
       "ff    100\n",
       "gg    110\n",
       "hh    120\n",
       "ii    130\n",
       "dtype: int64"
      ]
     },
     "execution_count": 22,
     "metadata": {},
     "output_type": "execute_result"
    }
   ],
   "source": [
    "# sr = sr.append(pd.Series([110,120,130], index=['gg','hh','ii']))\n",
    "sr.append(pd.Series([110,120,130], index=['gg','hh','ii']))"
   ]
  },
  {
   "cell_type": "markdown",
   "id": "57c7fe4b",
   "metadata": {},
   "source": [
    "## 삭제"
   ]
  },
  {
   "cell_type": "code",
   "execution_count": 24,
   "id": "fff438e5",
   "metadata": {},
   "outputs": [],
   "source": [
    "# sr.drop([부여된 인덱스])\n",
    "# sr.drop(['bb','dd'])\n",
    "sr.drop(['bb','dd'], inplace=True) # sr = sr.drop(['bb','dd'])과 동일"
   ]
  },
  {
   "cell_type": "markdown",
   "id": "ff793e72",
   "metadata": {},
   "source": [
    "## 정렬"
   ]
  },
  {
   "cell_type": "code",
   "execution_count": 27,
   "id": "6d0d6f92",
   "metadata": {},
   "outputs": [],
   "source": [
    "sr[0]=100"
   ]
  },
  {
   "cell_type": "code",
   "execution_count": 31,
   "id": "b05564d6",
   "metadata": {},
   "outputs": [],
   "source": [
    "sr.sort_values(inplace=True)"
   ]
  },
  {
   "cell_type": "code",
   "execution_count": 33,
   "id": "0b027010",
   "metadata": {},
   "outputs": [
    {
     "data": {
      "text/plain": [
       "aa    100\n",
       "ee     50\n",
       "dd     40\n",
       "cc     30\n",
       "bb     20\n",
       "Name: 국어점수, dtype: int64"
      ]
     },
     "execution_count": 33,
     "metadata": {},
     "output_type": "execute_result"
    }
   ],
   "source": [
    "sr.sort_values(ascending=False)"
   ]
  },
  {
   "cell_type": "code",
   "execution_count": 30,
   "id": "597e7ab5",
   "metadata": {},
   "outputs": [
    {
     "data": {
      "text/plain": [
       "bb     20\n",
       "cc     30\n",
       "dd     40\n",
       "ee     50\n",
       "aa    100\n",
       "Name: 국어점수, dtype: int64"
      ]
     },
     "execution_count": 30,
     "metadata": {},
     "output_type": "execute_result"
    }
   ],
   "source": [
    "sr"
   ]
  }
 ],
 "metadata": {
  "kernelspec": {
   "display_name": "Python 3 (ipykernel)",
   "language": "python",
   "name": "python3"
  },
  "language_info": {
   "codemirror_mode": {
    "name": "ipython",
    "version": 3
   },
   "file_extension": ".py",
   "mimetype": "text/x-python",
   "name": "python",
   "nbconvert_exporter": "python",
   "pygments_lexer": "ipython3",
   "version": "3.10.9"
  }
 },
 "nbformat": 4,
 "nbformat_minor": 5
}
