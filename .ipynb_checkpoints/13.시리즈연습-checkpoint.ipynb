{
 "cells": [
  {
   "cell_type": "code",
   "execution_count": 1,
   "id": "a0e62957",
   "metadata": {},
   "outputs": [],
   "source": [
    "import pandas as pd\n",
    "import numpy as np"
   ]
  },
  {
   "cell_type": "code",
   "execution_count": 2,
   "id": "43bae57d",
   "metadata": {},
   "outputs": [
    {
     "data": {
      "text/plain": [
       "홍길동     90\n",
       "이순신     90\n",
       "임꺽정     55\n",
       "정난정     60\n",
       "이이      76\n",
       "이황      80\n",
       "정도전     76\n",
       "김철수1    88\n",
       "김철수2    30\n",
       "김철수3    25\n",
       "Name: 국어점수, dtype: int64"
      ]
     },
     "execution_count": 2,
     "metadata": {},
     "output_type": "execute_result"
    }
   ],
   "source": [
    "sr = pd.Series([90,90,55,60,76,80,76,88,30,25], name=\"국어점수\")\n",
    "sr.index=['홍길동','이순신','임꺽정','정난정','이이','이황','정도전','김철수1','김철수2','김철수3']\n",
    "sr"
   ]
  },
  {
   "cell_type": "code",
   "execution_count": 4,
   "id": "391e38aa",
   "metadata": {},
   "outputs": [
    {
     "data": {
      "text/plain": [
       "홍길동     90\n",
       "이순신     90\n",
       "이황      80\n",
       "김철수1    88\n",
       "Name: 국어점수, dtype: int64"
      ]
     },
     "execution_count": 4,
     "metadata": {},
     "output_type": "execute_result"
    }
   ],
   "source": [
    "# 1.국어점수가 80점 이상인 값을 구하시오.\n",
    "sr[sr>=80]"
   ]
  },
  {
   "cell_type": "code",
   "execution_count": 6,
   "id": "48674a4c",
   "metadata": {},
   "outputs": [
    {
     "data": {
      "text/plain": [
       "임꺽정    55\n",
       "정난정    60\n",
       "이이     76\n",
       "이황     80\n",
       "정도전    76\n",
       "Name: 국어점수, dtype: int64"
      ]
     },
     "execution_count": 6,
     "metadata": {},
     "output_type": "execute_result"
    }
   ],
   "source": [
    "# 2.국어점수가 50점 이상 80점 이하인 값을 구하시오.\n",
    "sr[sr.between(50,80)]"
   ]
  },
  {
   "cell_type": "code",
   "execution_count": 9,
   "id": "afc8b91b",
   "metadata": {},
   "outputs": [
    {
     "data": {
      "text/plain": [
       "홍길동     90\n",
       "이순신     90\n",
       "임꺽정     55\n",
       "정난정     60\n",
       "이이      76\n",
       "이황      80\n",
       "정도전     76\n",
       "김철수1    88\n",
       "Name: 국어점수, dtype: int64"
      ]
     },
     "execution_count": 9,
     "metadata": {},
     "output_type": "execute_result"
    }
   ],
   "source": [
    "# 3. 국어점수가 40점이하인 데이터를 삭제하시오.\n",
    "sr.drop(sr.index[sr<=40])"
   ]
  },
  {
   "cell_type": "code",
   "execution_count": null,
   "id": "66c6e767",
   "metadata": {},
   "outputs": [],
   "source": [
    "# 4. 30이하인 데이터에 5를 더한 값으로 수정하시오."
   ]
  },
  {
   "cell_type": "code",
   "execution_count": null,
   "id": "66cc74e4",
   "metadata": {},
   "outputs": [],
   "source": [
    "# 5. 국어점수의 가장 큰 값을 구하시오."
   ]
  },
  {
   "cell_type": "code",
   "execution_count": null,
   "id": "b76bfb66",
   "metadata": {},
   "outputs": [],
   "source": [
    "sr"
   ]
  }
 ],
 "metadata": {
  "kernelspec": {
   "display_name": "Python 3 (ipykernel)",
   "language": "python",
   "name": "python3"
  },
  "language_info": {
   "codemirror_mode": {
    "name": "ipython",
    "version": 3
   },
   "file_extension": ".py",
   "mimetype": "text/x-python",
   "name": "python",
   "nbconvert_exporter": "python",
   "pygments_lexer": "ipython3",
   "version": "3.10.9"
  }
 },
 "nbformat": 4,
 "nbformat_minor": 5
}
