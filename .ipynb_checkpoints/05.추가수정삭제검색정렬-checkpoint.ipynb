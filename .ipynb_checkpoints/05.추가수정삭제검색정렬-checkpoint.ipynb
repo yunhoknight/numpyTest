{
 "cells": [
  {
   "cell_type": "code",
   "execution_count": 1,
   "id": "794d08d8",
   "metadata": {},
   "outputs": [],
   "source": [
    "import numpy as np"
   ]
  },
  {
   "cell_type": "code",
   "execution_count": 2,
   "id": "6f74e1c6",
   "metadata": {},
   "outputs": [
    {
     "data": {
      "text/plain": [
       "array([11, 22, 33, 44, 55])"
      ]
     },
     "execution_count": 2,
     "metadata": {},
     "output_type": "execute_result"
    }
   ],
   "source": [
    "arr = np.array([11,22,33,44,55])\n",
    "arr"
   ]
  },
  {
   "cell_type": "markdown",
   "id": "de38e444",
   "metadata": {},
   "source": [
    "## 추가"
   ]
  },
  {
   "cell_type": "code",
   "execution_count": 3,
   "id": "7835ad4b",
   "metadata": {},
   "outputs": [
    {
     "data": {
      "text/plain": [
       "array([ 11,  22,  33,  44,  55, 100, 200])"
      ]
     },
     "execution_count": 3,
     "metadata": {},
     "output_type": "execute_result"
    }
   ],
   "source": [
    "np.append(arr, [100, 200])"
   ]
  },
  {
   "cell_type": "code",
   "execution_count": 4,
   "id": "d38b7ac0",
   "metadata": {},
   "outputs": [
    {
     "data": {
      "text/plain": [
       "array([11, 22, 33, 44, 55])"
      ]
     },
     "execution_count": 4,
     "metadata": {},
     "output_type": "execute_result"
    }
   ],
   "source": [
    "arr"
   ]
  },
  {
   "cell_type": "code",
   "execution_count": 7,
   "id": "74c0c8b6",
   "metadata": {},
   "outputs": [
    {
     "data": {
      "text/plain": [
       "array([ 11,  22,  33,  44,  55, 100, 200, 100, 200, 100, 200])"
      ]
     },
     "execution_count": 7,
     "metadata": {},
     "output_type": "execute_result"
    }
   ],
   "source": [
    "arr = np.append(arr, [100, 200]) # 추가된 것 실제 적용\n",
    "arr"
   ]
  },
  {
   "cell_type": "code",
   "execution_count": 8,
   "id": "da212a86",
   "metadata": {},
   "outputs": [
    {
     "data": {
      "text/plain": [
       "array([ 11,   1,   2,  22,  33,  44,  55, 100, 200, 100, 200, 100, 200])"
      ]
     },
     "execution_count": 8,
     "metadata": {},
     "output_type": "execute_result"
    }
   ],
   "source": [
    "np.insert(arr, 1, [1,2])"
   ]
  },
  {
   "cell_type": "code",
   "execution_count": 9,
   "id": "25803816",
   "metadata": {},
   "outputs": [
    {
     "data": {
      "text/plain": [
       "array([ 11,  22,  33,  44,  55, 100, 200, 100, 200, 100, 200])"
      ]
     },
     "execution_count": 9,
     "metadata": {},
     "output_type": "execute_result"
    }
   ],
   "source": [
    "arr"
   ]
  },
  {
   "cell_type": "code",
   "execution_count": 10,
   "id": "0dfc1771",
   "metadata": {},
   "outputs": [
    {
     "data": {
      "text/plain": [
       "array([ 11,   1,   2,  22,  33,  44,  55, 100, 200, 100, 200, 100, 200])"
      ]
     },
     "execution_count": 10,
     "metadata": {},
     "output_type": "execute_result"
    }
   ],
   "source": [
    "arr = np.insert(arr, 1, [1,2])\n",
    "arr"
   ]
  },
  {
   "cell_type": "markdown",
   "id": "8dcc67d8",
   "metadata": {},
   "source": [
    "## 수정"
   ]
  },
  {
   "cell_type": "code",
   "execution_count": 12,
   "id": "a2515725",
   "metadata": {},
   "outputs": [
    {
     "data": {
      "text/plain": [
       "array([100,   1,   2,  22,  33,  44,  55, 100, 200, 100, 200, 100, 200])"
      ]
     },
     "execution_count": 12,
     "metadata": {},
     "output_type": "execute_result"
    }
   ],
   "source": [
    "arr[0] = 100\n",
    "arr"
   ]
  },
  {
   "cell_type": "code",
   "execution_count": 14,
   "id": "469e979f",
   "metadata": {},
   "outputs": [
    {
     "data": {
      "text/plain": [
       "array([100,   2,   2,  22,  33,  44,  55, 100, 200, 100, 200, 100, 200])"
      ]
     },
     "execution_count": 14,
     "metadata": {},
     "output_type": "execute_result"
    }
   ],
   "source": [
    "arr[1:3] = 2\n",
    "arr"
   ]
  },
  {
   "cell_type": "code",
   "execution_count": 15,
   "id": "bf194956",
   "metadata": {},
   "outputs": [],
   "source": [
    "arr[1:3] = [5,6]"
   ]
  },
  {
   "cell_type": "code",
   "execution_count": 16,
   "id": "d3d439ce",
   "metadata": {},
   "outputs": [
    {
     "data": {
      "text/plain": [
       "array([100,   5,   6,  22,  33,  44,  55, 100, 200, 100, 200, 100, 200])"
      ]
     },
     "execution_count": 16,
     "metadata": {},
     "output_type": "execute_result"
    }
   ],
   "source": [
    "arr"
   ]
  },
  {
   "cell_type": "markdown",
   "id": "372300e9",
   "metadata": {},
   "source": [
    "## 삭제"
   ]
  },
  {
   "cell_type": "code",
   "execution_count": 17,
   "id": "0fe75ed3",
   "metadata": {},
   "outputs": [
    {
     "data": {
      "text/plain": [
       "array([  5,  22,  33,  44,  55, 100, 200, 100, 200, 100, 200])"
      ]
     },
     "execution_count": 17,
     "metadata": {},
     "output_type": "execute_result"
    }
   ],
   "source": [
    "np.delete(arr, [0,2])"
   ]
  },
  {
   "cell_type": "code",
   "execution_count": 18,
   "id": "f6417797",
   "metadata": {},
   "outputs": [
    {
     "data": {
      "text/plain": [
       "array([100,   5,   6,  22,  33,  44,  55, 100, 200, 100, 200, 100, 200])"
      ]
     },
     "execution_count": 18,
     "metadata": {},
     "output_type": "execute_result"
    }
   ],
   "source": [
    "arr"
   ]
  },
  {
   "cell_type": "code",
   "execution_count": 20,
   "id": "f4ca628c",
   "metadata": {},
   "outputs": [
    {
     "data": {
      "text/plain": [
       "array([ 22,  44,  55, 100, 200, 100, 200, 100, 200])"
      ]
     },
     "execution_count": 20,
     "metadata": {},
     "output_type": "execute_result"
    }
   ],
   "source": [
    "arr = np.delete(arr, [0,2])\n",
    "arr"
   ]
  },
  {
   "cell_type": "code",
   "execution_count": 21,
   "id": "31b4129c",
   "metadata": {},
   "outputs": [
    {
     "data": {
      "text/plain": [
       "(array([0], dtype=int64),)"
      ]
     },
     "execution_count": 21,
     "metadata": {},
     "output_type": "execute_result"
    }
   ],
   "source": [
    "np.where(arr<30)"
   ]
  },
  {
   "cell_type": "code",
   "execution_count": 24,
   "id": "01182490",
   "metadata": {},
   "outputs": [
    {
     "data": {
      "text/plain": [
       "array([22])"
      ]
     },
     "execution_count": 24,
     "metadata": {},
     "output_type": "execute_result"
    }
   ],
   "source": [
    "# 2분 퀴즈\n",
    "## 40 이상인 값을 삭제하십시오.\n",
    "# np.delete(arr, arr>=40) #1.19버전 이상만 지원\n",
    "np.delete(arr, np.where(arr >= 40))"
   ]
  },
  {
   "cell_type": "code",
   "execution_count": 25,
   "id": "f587621a",
   "metadata": {},
   "outputs": [
    {
     "data": {
      "text/plain": [
       "array([ 22,  44,  55, 100, 200, 100, 200, 100, 200])"
      ]
     },
     "execution_count": 25,
     "metadata": {},
     "output_type": "execute_result"
    }
   ],
   "source": [
    "arr"
   ]
  },
  {
   "cell_type": "code",
   "execution_count": 26,
   "id": "4d1718ea",
   "metadata": {},
   "outputs": [
    {
     "data": {
      "text/plain": [
       "array(['B', 'A', 'A', 'A', 'A', 'A', 'A', 'A', 'A'], dtype='<U1')"
      ]
     },
     "execution_count": 26,
     "metadata": {},
     "output_type": "execute_result"
    }
   ],
   "source": [
    "np.where(arr<30, 'B', 'A')"
   ]
  },
  {
   "cell_type": "markdown",
   "id": "3ae096a8",
   "metadata": {},
   "source": [
    "## 다중조건"
   ]
  },
  {
   "cell_type": "code",
   "execution_count": 27,
   "id": "00fddc35",
   "metadata": {},
   "outputs": [
    {
     "data": {
      "text/plain": [
       "array(['C', 'A', 'A', 'A', 'A', 'A', 'A', 'A', 'A'], dtype='<U3')"
      ]
     },
     "execution_count": 27,
     "metadata": {},
     "output_type": "execute_result"
    }
   ],
   "source": [
    "np. select([arr>40, arr>30, arr>0], ['A', 'B', 'C'])"
   ]
  },
  {
   "cell_type": "markdown",
   "id": "9f9bdecf",
   "metadata": {},
   "source": [
    "## 정렬"
   ]
  },
  {
   "cell_type": "code",
   "execution_count": 28,
   "id": "d11dceba",
   "metadata": {},
   "outputs": [],
   "source": [
    "arr[0] = 100"
   ]
  },
  {
   "cell_type": "code",
   "execution_count": 29,
   "id": "c84287f9",
   "metadata": {},
   "outputs": [
    {
     "data": {
      "text/plain": [
       "array([ 44,  55, 100, 100, 100, 100, 200, 200, 200])"
      ]
     },
     "execution_count": 29,
     "metadata": {},
     "output_type": "execute_result"
    }
   ],
   "source": [
    "np.sort(arr)"
   ]
  },
  {
   "cell_type": "code",
   "execution_count": 30,
   "id": "7ba9fd93",
   "metadata": {},
   "outputs": [
    {
     "data": {
      "text/plain": [
       "array([100,  44,  55, 100, 200, 100, 200, 100, 200])"
      ]
     },
     "execution_count": 30,
     "metadata": {},
     "output_type": "execute_result"
    }
   ],
   "source": [
    "arr"
   ]
  },
  {
   "cell_type": "code",
   "execution_count": 33,
   "id": "6f0a495e",
   "metadata": {},
   "outputs": [
    {
     "data": {
      "text/plain": [
       "array([ 44,  55, 100, 100, 100, 100, 200, 200, 200])"
      ]
     },
     "execution_count": 33,
     "metadata": {},
     "output_type": "execute_result"
    }
   ],
   "source": [
    "arr = np.sort(arr)\n",
    "arr"
   ]
  },
  {
   "cell_type": "markdown",
   "id": "891c63da",
   "metadata": {},
   "source": [
    "### 연습문제"
   ]
  },
  {
   "cell_type": "code",
   "execution_count": 34,
   "id": "ed6e80e2",
   "metadata": {},
   "outputs": [
    {
     "data": {
      "text/plain": [
       "array([60, 55, 70, 30, 20, 90])"
      ]
     },
     "execution_count": 34,
     "metadata": {},
     "output_type": "execute_result"
    }
   ],
   "source": [
    "kor = np.array([60,55,70,30,20,90])\n",
    "kor"
   ]
  },
  {
   "cell_type": "markdown",
   "id": "58f6b0e7",
   "metadata": {},
   "source": [
    "7분 퀴즈..\n",
    "1. 국어점수가 80점 이상인 값을 구하시오.\n",
    "2. 국어점수가 50점 이상 80이하인 값을 구하시오.\n",
    "3. 국어점수 top5를 구하시오."
   ]
  },
  {
   "cell_type": "code",
   "execution_count": 52,
   "id": "c0f5f188",
   "metadata": {},
   "outputs": [
    {
     "data": {
      "text/plain": [
       "array([90])"
      ]
     },
     "execution_count": 52,
     "metadata": {},
     "output_type": "execute_result"
    }
   ],
   "source": [
    "# 1. 국어점수가 80점 이상인 값을 구하시오.\n",
    "kor[kor>=80]"
   ]
  },
  {
   "cell_type": "code",
   "execution_count": 53,
   "id": "a48bc954",
   "metadata": {},
   "outputs": [
    {
     "data": {
      "text/plain": [
       "array([60, 55, 70])"
      ]
     },
     "execution_count": 53,
     "metadata": {},
     "output_type": "execute_result"
    }
   ],
   "source": [
    "# 국어점수가 50점 이상 80이하인 값을 구하시오.\n",
    "kor[(kor>=50) & (kor<=80)]"
   ]
  },
  {
   "cell_type": "code",
   "execution_count": 55,
   "id": "d0d693bc",
   "metadata": {},
   "outputs": [
    {
     "data": {
      "text/plain": [
       "array([90, 70, 60, 55, 30])"
      ]
     },
     "execution_count": 55,
     "metadata": {},
     "output_type": "execute_result"
    }
   ],
   "source": [
    "# 국어점수 top5를 구하시오.\n",
    "np.sort(kor)[-1:-6:-1]"
   ]
  },
  {
   "cell_type": "markdown",
   "id": "21f799cf",
   "metadata": {},
   "source": [
    "#### 7분 퀴즈..\n",
    "#### 4.국어점수가 40점이하인 데이터를 삭제하십시오.\n",
    "#### 5.국어점수가 50점 이상인 데이터에 가산점 10%를 부여하시오.\n",
    "#### 6.국어점수가 70점 이상이면 '합격' 아니면 '불합격'으로 구하시오."
   ]
  },
  {
   "cell_type": "code",
   "execution_count": 59,
   "id": "fd8dacc5",
   "metadata": {},
   "outputs": [
    {
     "data": {
      "text/plain": [
       "array([60, 55, 70, 90])"
      ]
     },
     "execution_count": 59,
     "metadata": {},
     "output_type": "execute_result"
    }
   ],
   "source": [
    "# 4.국어점수가 40점이하인 데이터를 삭제하십시오.\n",
    "np.delete(kor, np.where(kor<=40))"
   ]
  },
  {
   "cell_type": "code",
   "execution_count": 63,
   "id": "ba8bb85f",
   "metadata": {},
   "outputs": [
    {
     "data": {
      "text/plain": [
       "array([66. , 60.5, 77. , 30. , 20. , 99. ])"
      ]
     },
     "execution_count": 63,
     "metadata": {},
     "output_type": "execute_result"
    }
   ],
   "source": [
    "# 5.국어점수가 50점 이상인 데이터에 가산점 10%를 부여하시오.\n",
    "np.where(kor>=50, kor*1.1, kor)"
   ]
  },
  {
   "cell_type": "code",
   "execution_count": 62,
   "id": "c411ea19",
   "metadata": {},
   "outputs": [
    {
     "data": {
      "text/plain": [
       "array(['불합격', '불합격', '합격', '불합격', '불합격', '합격'], dtype='<U3')"
      ]
     },
     "execution_count": 62,
     "metadata": {},
     "output_type": "execute_result"
    }
   ],
   "source": [
    "# 6.국어점수가 70점 이상이면 '합격' 아니면 '불합격'으로 구하시오.\n",
    "np.where(kor>=70,'합격','불합격')"
   ]
  }
 ],
 "metadata": {
  "kernelspec": {
   "display_name": "Python 3 (ipykernel)",
   "language": "python",
   "name": "python3"
  },
  "language_info": {
   "codemirror_mode": {
    "name": "ipython",
    "version": 3
   },
   "file_extension": ".py",
   "mimetype": "text/x-python",
   "name": "python",
   "nbconvert_exporter": "python",
   "pygments_lexer": "ipython3",
   "version": "3.9.12"
  }
 },
 "nbformat": 4,
 "nbformat_minor": 5
}
