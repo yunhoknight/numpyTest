{
 "cells": [
  {
   "cell_type": "code",
   "execution_count": null,
   "id": "dc44ec8f",
   "metadata": {},
   "outputs": [],
   "source": [
    "- edit mode(연두색):ctrl + enter(셀실행), shift+enter(셀실행후 다음셀로 이동),\n",
    "    tab(자동완성), shift+tab(아규먼트,document), esc(command mode)\n",
    "\n",
    "- command mode(하늘색): enter(edit mode), a(위에셀추가),b(아래셀추가),x(셀삭제)\n",
    "    z(삭제셀 복원), o"
   ]
  },
  {
   "cell_type": "code",
   "execution_count": 2,
   "id": "b6d6fa8e",
   "metadata": {},
   "outputs": [
    {
     "name": "stdout",
     "output_type": "stream",
     "text": [
      "hello\n"
     ]
    }
   ],
   "source": [
    "print('hello')"
   ]
  },
  {
   "cell_type": "code",
   "execution_count": 6,
   "id": "5a485c2a",
   "metadata": {},
   "outputs": [
    {
     "name": "stdout",
     "output_type": "stream",
     "text": [
      "10\n",
      "20\n"
     ]
    }
   ],
   "source": [
    "a=10\n",
    "b=20\n",
    "print(a)\n",
    "print(b)"
   ]
  },
  {
   "cell_type": "code",
   "execution_count": 7,
   "id": "379646fa",
   "metadata": {},
   "outputs": [
    {
     "data": {
      "text/plain": [
       "10"
      ]
     },
     "execution_count": 7,
     "metadata": {},
     "output_type": "execute_result"
    }
   ],
   "source": [
    "a # print없이 출력 가능"
   ]
  },
  {
   "cell_type": "code",
   "execution_count": 8,
   "id": "1ca93501",
   "metadata": {},
   "outputs": [
    {
     "data": {
      "text/plain": [
       "20"
      ]
     },
     "execution_count": 8,
     "metadata": {},
     "output_type": "execute_result"
    }
   ],
   "source": [
    "a\n",
    "b"
   ]
  },
  {
   "cell_type": "markdown",
   "id": "7cfd8e7e",
   "metadata": {},
   "source": [
    "# 주석셀\n",
    "## 테스트\n",
    "### 테스트\n",
    "#### 테스트\n",
    "##### 테스트"
   ]
  }
 ],
 "metadata": {
  "kernelspec": {
   "display_name": "Python 3 (ipykernel)",
   "language": "python",
   "name": "python3"
  },
  "language_info": {
   "codemirror_mode": {
    "name": "ipython",
    "version": 3
   },
   "file_extension": ".py",
   "mimetype": "text/x-python",
   "name": "python",
   "nbconvert_exporter": "python",
   "pygments_lexer": "ipython3",
   "version": "3.9.12"
  }
 },
 "nbformat": 4,
 "nbformat_minor": 5
}
